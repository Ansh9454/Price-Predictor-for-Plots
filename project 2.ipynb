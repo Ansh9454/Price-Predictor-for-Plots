{
 "cells": [
  {
   "cell_type": "code",
   "execution_count": 1,
   "id": "d4e5f510",
   "metadata": {},
   "outputs": [
    {
     "name": "stdout",
     "output_type": "stream",
     "text": [
      "Predicted price for house 1: $271052.63\n",
      "Predicted price for house 2: $355364.37\n"
     ]
    }
   ],
   "source": [
    "from sklearn.linear_model import LinearRegression\n",
    "import numpy as np\n",
    "\n",
    "X = np.array([[1500, 3, 2], [2000, 4, 3], [1200, 2, 1], [1800, 3, 2], [2500, 4, 3]])\n",
    "y = np.array([250000, 350000, 200000, 300000, 400000])\n",
    "\n",
    "model = LinearRegression()\n",
    "model.fit(X, y)\n",
    "\n",
    "X_new = np.array([[1600, 3, 2], [2200, 4, 2]])\n",
    "predictions = model.predict(X_new)\n",
    "\n",
    "for i, pred in enumerate(predictions):\n",
    "    print(f\"Predicted price for house {i+1}: ${pred:.2f}\")\n"
   ]
  },
  {
   "cell_type": "code",
   "execution_count": null,
   "id": "fbb5f047",
   "metadata": {},
   "outputs": [],
   "source": []
  }
 ],
 "metadata": {
  "kernelspec": {
   "display_name": "Python 3 (ipykernel)",
   "language": "python",
   "name": "python3"
  },
  "language_info": {
   "codemirror_mode": {
    "name": "ipython",
    "version": 3
   },
   "file_extension": ".py",
   "mimetype": "text/x-python",
   "name": "python",
   "nbconvert_exporter": "python",
   "pygments_lexer": "ipython3",
   "version": "3.11.5"
  }
 },
 "nbformat": 4,
 "nbformat_minor": 5
}
